{
 "cells": [
  {
   "cell_type": "markdown",
   "metadata": {},
   "source": [
    "<span style=\"color:Green\">\n",
    "    \n",
    "Дополнительное задание:\n",
    "\n",
    "- Построить на графике ROC-кривую для самой лучшей модели, посмотреть на что она похожа;\n",
    "- Построить PR-кривую, сравнить её значение и вид с ROC-кривой. Как они соотносятся и соотносятся ли, вообще?\n",
    "\n",
    "</span>"
   ]
  },
  {
   "cell_type": "markdown",
   "metadata": {},
   "source": [
    "# Отток клиентов"
   ]
  },
  {
   "cell_type": "markdown",
   "metadata": {},
   "source": [
    "Из «Бета-Банка» стали уходить клиенты. Каждый месяц. Немного, но заметно. Банковские маркетологи посчитали: сохранять текущих клиентов дешевле, чем привлекать новых.\n",
    "\n",
    "Нужно спрогнозировать, уйдёт клиент из банка в ближайшее время или нет. Вам предоставлены исторические данные о поведении клиентов и расторжении договоров с банком. \n",
    "\n",
    "Постройте модель с предельно большим значением *F1*-меры. Чтобы сдать проект успешно, нужно довести метрику до 0.59. Проверьте *F1*-меру на тестовой выборке самостоятельно.\n",
    "\n",
    "Дополнительно измеряйте *AUC-ROC*, сравнивайте её значение с *F1*-мерой.\n",
    "\n",
    "Источник данных: [https://www.kaggle.com/barelydedicated/bank-customer-churn-modeling](https://www.kaggle.com/barelydedicated/bank-customer-churn-modeling) * _Датасет в текущем репозитории немного изменен!_\n",
    "\n",
    "---"
   ]
  },
  {
   "cell_type": "markdown",
   "metadata": {},
   "source": [
    "Импортируем все необходимые библиотеки, модели и методы:"
   ]
  },
  {
   "cell_type": "code",
   "execution_count": 1,
   "metadata": {},
   "outputs": [],
   "source": [
    "import pandas as pd\n",
    "import matplotlib.pyplot as plt\n",
    "\n",
    "from sklearn.model_selection import train_test_split\n",
    "from sklearn.preprocessing import OrdinalEncoder, StandardScaler\n",
    "from sklearn.utils import shuffle\n",
    "\n",
    "from sklearn.tree import DecisionTreeClassifier\n",
    "from sklearn.ensemble import RandomForestClassifier\n",
    "from sklearn.linear_model import LogisticRegression\n",
    "\n",
    "from sklearn.metrics import f1_score, roc_auc_score"
   ]
  },
  {
   "cell_type": "code",
   "execution_count": 2,
   "metadata": {},
   "outputs": [],
   "source": [
    "# Отключим предупреждения для того, чтобы успешно смаштабировать количественные признаки\n",
    "pd.options.mode.chained_assignment = None"
   ]
  },
  {
   "cell_type": "markdown",
   "metadata": {},
   "source": [
    "## 1. Подготовка данных"
   ]
  },
  {
   "cell_type": "markdown",
   "metadata": {},
   "source": [
    "Откроем и изучим файл датасета:"
   ]
  },
  {
   "cell_type": "code",
   "execution_count": 3,
   "metadata": {},
   "outputs": [],
   "source": [
    "data = pd.read_csv('Churn.csv')"
   ]
  },
  {
   "cell_type": "code",
   "execution_count": 4,
   "metadata": {},
   "outputs": [
    {
     "name": "stdout",
     "output_type": "stream",
     "text": [
      "<class 'pandas.core.frame.DataFrame'>\n",
      "RangeIndex: 10000 entries, 0 to 9999\n",
      "Data columns (total 14 columns):\n",
      "RowNumber          10000 non-null int64\n",
      "CustomerId         10000 non-null int64\n",
      "Surname            10000 non-null object\n",
      "CreditScore        10000 non-null int64\n",
      "Geography          10000 non-null object\n",
      "Gender             10000 non-null object\n",
      "Age                10000 non-null int64\n",
      "Tenure             9091 non-null float64\n",
      "Balance            10000 non-null float64\n",
      "NumOfProducts      10000 non-null int64\n",
      "HasCrCard          10000 non-null int64\n",
      "IsActiveMember     10000 non-null int64\n",
      "EstimatedSalary    10000 non-null float64\n",
      "Exited             10000 non-null int64\n",
      "dtypes: float64(3), int64(8), object(3)\n",
      "memory usage: 1.1+ MB\n"
     ]
    }
   ],
   "source": [
    "data.info()"
   ]
  },
  {
   "cell_type": "markdown",
   "metadata": {},
   "source": [
    "В нашем распоряжении следующие признаки:\n",
    "\n",
    "| Название        | Описание                                          | Тип            | Нужен для обучения модели |\n",
    "|-----------------|:--------------------------------------------------|----------------|---------------------------|\n",
    "| RowNumber       | Индекс строки в данных                            | Категориальный | Нет                       |\n",
    "| CustomerId      | Уникальный идентификатор клиента                  | Категориальный | Нет                       |\n",
    "| Surname         | Фамилия                                           | Категориальный | Нет                       |\n",
    "| CreditScore     | Кредитный рейтинг                                 | Количественный | Да                        |\n",
    "| Geography       | Страна проживания                                 | Категориальный | Да                        |\n",
    "| Gender          | Пол                                               | Категориальный | Да                        |\n",
    "| Age             | Возраст                                           | Количественный | Да                        |\n",
    "| Tenure          | Количество недвижимости у клиента                 | Количественный | Да                        |\n",
    "| Balance         | Баланс на счёте                                   | Количественный | Да                        |\n",
    "| NumOfProducts   | Количество продуктов банка, используемых клиентом | Количественный | Да                        |\n",
    "| HasCrCard       | Наличие кредитной карты                           | Категориальный | Да                        |\n",
    "| IsActiveMember  | Активность клиента                                | Категориальный | Да                        |\n",
    "| EstimatedSalary | Предполагаемая зарплата                           | Количественный | Да                        |\n",
    "| Exited          | Факт ухода клиента – _целевой признак_            | Категориальный | -                         |"
   ]
  },
  {
   "cell_type": "code",
   "execution_count": 5,
   "metadata": {
    "scrolled": true
   },
   "outputs": [
    {
     "data": {
      "text/html": [
       "<div>\n",
       "<style scoped>\n",
       "    .dataframe tbody tr th:only-of-type {\n",
       "        vertical-align: middle;\n",
       "    }\n",
       "\n",
       "    .dataframe tbody tr th {\n",
       "        vertical-align: top;\n",
       "    }\n",
       "\n",
       "    .dataframe thead th {\n",
       "        text-align: right;\n",
       "    }\n",
       "</style>\n",
       "<table border=\"1\" class=\"dataframe\">\n",
       "  <thead>\n",
       "    <tr style=\"text-align: right;\">\n",
       "      <th></th>\n",
       "      <th>RowNumber</th>\n",
       "      <th>CustomerId</th>\n",
       "      <th>Surname</th>\n",
       "      <th>CreditScore</th>\n",
       "      <th>Geography</th>\n",
       "      <th>Gender</th>\n",
       "      <th>Age</th>\n",
       "      <th>Tenure</th>\n",
       "      <th>Balance</th>\n",
       "      <th>NumOfProducts</th>\n",
       "      <th>HasCrCard</th>\n",
       "      <th>IsActiveMember</th>\n",
       "      <th>EstimatedSalary</th>\n",
       "      <th>Exited</th>\n",
       "    </tr>\n",
       "  </thead>\n",
       "  <tbody>\n",
       "    <tr>\n",
       "      <th>0</th>\n",
       "      <td>1</td>\n",
       "      <td>15634602</td>\n",
       "      <td>Hargrave</td>\n",
       "      <td>619</td>\n",
       "      <td>France</td>\n",
       "      <td>Female</td>\n",
       "      <td>42</td>\n",
       "      <td>2.0</td>\n",
       "      <td>0.00</td>\n",
       "      <td>1</td>\n",
       "      <td>1</td>\n",
       "      <td>1</td>\n",
       "      <td>101348.88</td>\n",
       "      <td>1</td>\n",
       "    </tr>\n",
       "    <tr>\n",
       "      <th>1</th>\n",
       "      <td>2</td>\n",
       "      <td>15647311</td>\n",
       "      <td>Hill</td>\n",
       "      <td>608</td>\n",
       "      <td>Spain</td>\n",
       "      <td>Female</td>\n",
       "      <td>41</td>\n",
       "      <td>1.0</td>\n",
       "      <td>83807.86</td>\n",
       "      <td>1</td>\n",
       "      <td>0</td>\n",
       "      <td>1</td>\n",
       "      <td>112542.58</td>\n",
       "      <td>0</td>\n",
       "    </tr>\n",
       "    <tr>\n",
       "      <th>2</th>\n",
       "      <td>3</td>\n",
       "      <td>15619304</td>\n",
       "      <td>Onio</td>\n",
       "      <td>502</td>\n",
       "      <td>France</td>\n",
       "      <td>Female</td>\n",
       "      <td>42</td>\n",
       "      <td>8.0</td>\n",
       "      <td>159660.80</td>\n",
       "      <td>3</td>\n",
       "      <td>1</td>\n",
       "      <td>0</td>\n",
       "      <td>113931.57</td>\n",
       "      <td>1</td>\n",
       "    </tr>\n",
       "    <tr>\n",
       "      <th>3</th>\n",
       "      <td>4</td>\n",
       "      <td>15701354</td>\n",
       "      <td>Boni</td>\n",
       "      <td>699</td>\n",
       "      <td>France</td>\n",
       "      <td>Female</td>\n",
       "      <td>39</td>\n",
       "      <td>1.0</td>\n",
       "      <td>0.00</td>\n",
       "      <td>2</td>\n",
       "      <td>0</td>\n",
       "      <td>0</td>\n",
       "      <td>93826.63</td>\n",
       "      <td>0</td>\n",
       "    </tr>\n",
       "    <tr>\n",
       "      <th>4</th>\n",
       "      <td>5</td>\n",
       "      <td>15737888</td>\n",
       "      <td>Mitchell</td>\n",
       "      <td>850</td>\n",
       "      <td>Spain</td>\n",
       "      <td>Female</td>\n",
       "      <td>43</td>\n",
       "      <td>2.0</td>\n",
       "      <td>125510.82</td>\n",
       "      <td>1</td>\n",
       "      <td>1</td>\n",
       "      <td>1</td>\n",
       "      <td>79084.10</td>\n",
       "      <td>0</td>\n",
       "    </tr>\n",
       "  </tbody>\n",
       "</table>\n",
       "</div>"
      ],
      "text/plain": [
       "   RowNumber  CustomerId   Surname  CreditScore Geography  Gender  Age  \\\n",
       "0          1    15634602  Hargrave          619    France  Female   42   \n",
       "1          2    15647311      Hill          608     Spain  Female   41   \n",
       "2          3    15619304      Onio          502    France  Female   42   \n",
       "3          4    15701354      Boni          699    France  Female   39   \n",
       "4          5    15737888  Mitchell          850     Spain  Female   43   \n",
       "\n",
       "   Tenure    Balance  NumOfProducts  HasCrCard  IsActiveMember  \\\n",
       "0     2.0       0.00              1          1               1   \n",
       "1     1.0   83807.86              1          0               1   \n",
       "2     8.0  159660.80              3          1               0   \n",
       "3     1.0       0.00              2          0               0   \n",
       "4     2.0  125510.82              1          1               1   \n",
       "\n",
       "   EstimatedSalary  Exited  \n",
       "0        101348.88       1  \n",
       "1        112542.58       0  \n",
       "2        113931.57       1  \n",
       "3         93826.63       0  \n",
       "4         79084.10       0  "
      ]
     },
     "execution_count": 5,
     "metadata": {},
     "output_type": "execute_result"
    }
   ],
   "source": [
    "data.head()"
   ]
  },
  {
   "cell_type": "code",
   "execution_count": 6,
   "metadata": {},
   "outputs": [
    {
     "data": {
      "text/plain": [
       "France     5014\n",
       "Germany    2509\n",
       "Spain      2477\n",
       "Name: Geography, dtype: int64"
      ]
     },
     "execution_count": 6,
     "metadata": {},
     "output_type": "execute_result"
    }
   ],
   "source": [
    "data['Geography'].value_counts()"
   ]
  },
  {
   "cell_type": "markdown",
   "metadata": {},
   "source": [
    "На сайте Kaggle мы заметили, что признак `Surname` представлен _2 932_ уникальными значениями. Убедимся в том, что всё-таки в нашем датасете все клиенты уникальные:"
   ]
  },
  {
   "cell_type": "code",
   "execution_count": 7,
   "metadata": {},
   "outputs": [
    {
     "data": {
      "text/plain": [
       "10000"
      ]
     },
     "execution_count": 7,
     "metadata": {},
     "output_type": "execute_result"
    }
   ],
   "source": [
    "len(data['CustomerId'].unique())"
   ]
  },
  {
   "cell_type": "markdown",
   "metadata": {},
   "source": [
    "Тип данных признака `Tenure` – `float64`. Pandas при чтении датасета вывел данный тип из-за наличия пропусков. Результат обработки пропусков в датасете может повлиять на качество модели. Мы можем заполнить пропуски средним значением, что может привести к переобучению или же удалить ~10% объектов. Данных у нас не так мало, поэтому попробуем избавиться от пропусков, а также привести признак к целочисленному типу."
   ]
  },
  {
   "cell_type": "code",
   "execution_count": 8,
   "metadata": {},
   "outputs": [],
   "source": [
    "data.dropna(subset = ['Tenure'], inplace = True)\n",
    "data['Tenure'] = data['Tenure'].astype('int')"
   ]
  },
  {
   "cell_type": "code",
   "execution_count": 9,
   "metadata": {},
   "outputs": [
    {
     "data": {
      "image/png": "[encoded data removed]",
      "text/plain": [
       "<Figure size 432x288 with 1 Axes>"
      ]
     },
     "metadata": {
      "needs_background": "light"
     },
     "output_type": "display_data"
    }
   ],
   "source": [
    "data.hist('Balance')\n",
    "plt.show()"
   ]
  },
  {
   "cell_type": "code",
   "execution_count": 10,
   "metadata": {},
   "outputs": [
    {
     "name": "stdout",
     "output_type": "stream",
     "text": [
      "Клиентов с нулевым балансом: 3283\n"
     ]
    },
    {
     "data": {
      "text/html": [
       "<div>\n",
       "<style scoped>\n",
       "    .dataframe tbody tr th:only-of-type {\n",
       "        vertical-align: middle;\n",
       "    }\n",
       "\n",
       "    .dataframe tbody tr th {\n",
       "        vertical-align: top;\n",
       "    }\n",
       "\n",
       "    .dataframe thead th {\n",
       "        text-align: right;\n",
       "    }\n",
       "</style>\n",
       "<table border=\"1\" class=\"dataframe\">\n",
       "  <thead>\n",
       "    <tr style=\"text-align: right;\">\n",
       "      <th></th>\n",
       "      <th>RowNumber</th>\n",
       "      <th>CustomerId</th>\n",
       "      <th>Surname</th>\n",
       "      <th>CreditScore</th>\n",
       "      <th>Geography</th>\n",
       "      <th>Gender</th>\n",
       "      <th>Age</th>\n",
       "      <th>Tenure</th>\n",
       "      <th>Balance</th>\n",
       "      <th>NumOfProducts</th>\n",
       "      <th>HasCrCard</th>\n",
       "      <th>IsActiveMember</th>\n",
       "      <th>EstimatedSalary</th>\n",
       "      <th>Exited</th>\n",
       "    </tr>\n",
       "  </thead>\n",
       "  <tbody>\n",
       "    <tr>\n",
       "      <th>0</th>\n",
       "      <td>1</td>\n",
       "      <td>15634602</td>\n",
       "      <td>Hargrave</td>\n",
       "      <td>619</td>\n",
       "      <td>France</td>\n",
       "      <td>Female</td>\n",
       "      <td>42</td>\n",
       "      <td>2</td>\n",
       "      <td>0.0</td>\n",
       "      <td>1</td>\n",
       "      <td>1</td>\n",
       "      <td>1</td>\n",
       "      <td>101348.88</td>\n",
       "      <td>1</td>\n",
       "    </tr>\n",
       "    <tr>\n",
       "      <th>3</th>\n",
       "      <td>4</td>\n",
       "      <td>15701354</td>\n",
       "      <td>Boni</td>\n",
       "      <td>699</td>\n",
       "      <td>France</td>\n",
       "      <td>Female</td>\n",
       "      <td>39</td>\n",
       "      <td>1</td>\n",
       "      <td>0.0</td>\n",
       "      <td>2</td>\n",
       "      <td>0</td>\n",
       "      <td>0</td>\n",
       "      <td>93826.63</td>\n",
       "      <td>0</td>\n",
       "    </tr>\n",
       "    <tr>\n",
       "      <th>6</th>\n",
       "      <td>7</td>\n",
       "      <td>15592531</td>\n",
       "      <td>Bartlett</td>\n",
       "      <td>822</td>\n",
       "      <td>France</td>\n",
       "      <td>Male</td>\n",
       "      <td>50</td>\n",
       "      <td>7</td>\n",
       "      <td>0.0</td>\n",
       "      <td>2</td>\n",
       "      <td>1</td>\n",
       "      <td>1</td>\n",
       "      <td>10062.80</td>\n",
       "      <td>0</td>\n",
       "    </tr>\n",
       "    <tr>\n",
       "      <th>11</th>\n",
       "      <td>12</td>\n",
       "      <td>15737173</td>\n",
       "      <td>Andrews</td>\n",
       "      <td>497</td>\n",
       "      <td>Spain</td>\n",
       "      <td>Male</td>\n",
       "      <td>24</td>\n",
       "      <td>3</td>\n",
       "      <td>0.0</td>\n",
       "      <td>2</td>\n",
       "      <td>1</td>\n",
       "      <td>0</td>\n",
       "      <td>76390.01</td>\n",
       "      <td>0</td>\n",
       "    </tr>\n",
       "    <tr>\n",
       "      <th>12</th>\n",
       "      <td>13</td>\n",
       "      <td>15632264</td>\n",
       "      <td>Kay</td>\n",
       "      <td>476</td>\n",
       "      <td>France</td>\n",
       "      <td>Female</td>\n",
       "      <td>34</td>\n",
       "      <td>10</td>\n",
       "      <td>0.0</td>\n",
       "      <td>2</td>\n",
       "      <td>1</td>\n",
       "      <td>0</td>\n",
       "      <td>26260.98</td>\n",
       "      <td>0</td>\n",
       "    </tr>\n",
       "  </tbody>\n",
       "</table>\n",
       "</div>"
      ],
      "text/plain": [
       "    RowNumber  CustomerId   Surname  CreditScore Geography  Gender  Age  \\\n",
       "0           1    15634602  Hargrave          619    France  Female   42   \n",
       "3           4    15701354      Boni          699    France  Female   39   \n",
       "6           7    15592531  Bartlett          822    France    Male   50   \n",
       "11         12    15737173   Andrews          497     Spain    Male   24   \n",
       "12         13    15632264       Kay          476    France  Female   34   \n",
       "\n",
       "    Tenure  Balance  NumOfProducts  HasCrCard  IsActiveMember  \\\n",
       "0        2      0.0              1          1               1   \n",
       "3        1      0.0              2          0               0   \n",
       "6        7      0.0              2          1               1   \n",
       "11       3      0.0              2          1               0   \n",
       "12      10      0.0              2          1               0   \n",
       "\n",
       "    EstimatedSalary  Exited  \n",
       "0         101348.88       1  \n",
       "3          93826.63       0  \n",
       "6          10062.80       0  \n",
       "11         76390.01       0  \n",
       "12         26260.98       0  "
      ]
     },
     "execution_count": 10,
     "metadata": {},
     "output_type": "execute_result"
    }
   ],
   "source": [
    "zero_balance = data.query('Balance == 0')\n",
    "print('Клиентов с нулевым балансом:', len(zero_balance))\n",
    "zero_balance.head()"
   ]
  },
  {
   "cell_type": "code",
   "execution_count": 11,
   "metadata": {},
   "outputs": [
    {
     "data": {
      "image/png": "[encoded data removed]",
      "text/plain": [
       "<Figure size 432x288 with 1 Axes>"
      ]
     },
     "metadata": {
      "needs_background": "light"
     },
     "output_type": "display_data"
    }
   ],
   "source": [
    "data.boxplot('EstimatedSalary')\n",
    "plt.show()"
   ]
  },
  {
   "cell_type": "markdown",
   "metadata": {},
   "source": [
    "### Выводы\n",
    "\n",
    "📝 Датасет состоит из _10 000_ объектов и _14_ признаков. Из них для обучения модели нам не понадобятся:\n",
    "\n",
    "- `RowNumber` индекс строки в данных;\n",
    "- `CustomerId` уникальный идентификатор;\n",
    "- `Surname` фамилия клиента.\n",
    "\n",
    "Целевой признак для нашей задачи – `Exited`, т.е. модель, которую мы попытаемся построить, будет предсказывать значение `1` если клиент уйдет или `0` если нет. В этом заключается наша задача классификации, т.к. целевой признак является категориальным.\n",
    "\n",
    "Кроме того:\n",
    "\n",
    "- В датасете представлены клиенты из трех стран EC: Франции ~50%, Германии ~25% и Испании ~25%. Следовательно, все денежные суммы указаны в евро €.\n",
    "- Признак `Tenure` (количество недвижимости у клиента) содержит _909_ пропусков. Мы их удалили и привели признак к целочисленному типу.\n",
    "- У _3 617_ клиентов банка нулевой баланс на счете. Такая ситуация может быть вполне реалистичной – не у всех клиентов может быть положительный баланс, особенно при условии бесплатного обслуживания. В реальной практике мы бы обязательно уточнили этот момент у коллег. Если бы мы убрали объекты, у которых баланс меньше 25 000 (это видно по гистограмме), то есть шанс, что модель будет плохо предсказывать в подобных случаях.\n",
    "- Заметим, что предполагаемая зарплата `EstimatedSalary` имеет странности: нижний ус упирается в близкое к нулю значение, но при этом первый квартиль лежит на урове €50 000. Как и в случае с балансом, мы могли бы уточнить как формируется данный признак, например, заполняет его клиент или же предсказывает другая модель. Оставим как есть, вдруг кто-то живет на дивиденды от недвижимости или временно проживает в стране."
   ]
  },
  {
   "cell_type": "markdown",
   "metadata": {},
   "source": [
    "### Подготовим выборки для дальнейшего обучения моделей"
   ]
  },
  {
   "cell_type": "code",
   "execution_count": 12,
   "metadata": {},
   "outputs": [
    {
     "data": {
      "text/plain": [
       "909"
      ]
     },
     "execution_count": 12,
     "metadata": {},
     "output_type": "execute_result"
    }
   ],
   "source": [
    "len(data.query('EstimatedSalary < 20_000'))"
   ]
  },
  {
   "cell_type": "markdown",
   "metadata": {},
   "source": [
    "Удалим ненужные признаки:"
   ]
  },
  {
   "cell_type": "code",
   "execution_count": 13,
   "metadata": {},
   "outputs": [],
   "source": [
    "features_ignored = ['RowNumber', 'CustomerId', 'Surname']\n",
    "data = data.drop(features_ignored, axis=1)"
   ]
  },
  {
   "cell_type": "markdown",
   "metadata": {},
   "source": [
    "Зафиксируем псевдослучайность для всех используемых в проекте алгоритмов:"
   ]
  },
  {
   "cell_type": "code",
   "execution_count": 14,
   "metadata": {},
   "outputs": [],
   "source": [
    "rnd_state = 201911"
   ]
  },
  {
   "cell_type": "markdown",
   "metadata": {},
   "source": [
    "Определим несколько функций-хэлперов, которые пригодятся в дальнейшем и избавят нас от дублирования кода."
   ]
  },
  {
   "cell_type": "code",
   "execution_count": 15,
   "metadata": {},
   "outputs": [],
   "source": [
    "def tf(data, target_column='Exited'):\n",
    "    '''Функция возвращает целевой признак и признаки для обучения модели.'''    \n",
    "    target = data[target_column]\n",
    "    features = data.drop(target_column, axis=1)\n",
    "    return target, features"
   ]
  },
  {
   "cell_type": "markdown",
   "metadata": {},
   "source": [
    "Спрятанной тестовой выборки в задании нет, поэтому будем разбивать исходный набор данных на три части: обучающую, валидационную и тестовую. Размеры тестового и валидационного наборов сделаем равными."
   ]
  },
  {
   "cell_type": "code",
   "execution_count": 16,
   "metadata": {},
   "outputs": [],
   "source": [
    "def split_data(features, target):\n",
    "    '''\n",
    "    Функция разделяет заданный датасет на обучающую, валидационную и тестовую выборки:\n",
    "    60% | 20% | 20%\n",
    "    '''\n",
    "    features_train, features_valid, target_train, target_valid = train_test_split(\n",
    "        features, target, test_size=0.4, random_state=rnd_state\n",
    "    )\n",
    "\n",
    "    features_valid, features_test, target_valid, target_test = train_test_split(\n",
    "        features_valid, target_valid, test_size=0.5, random_state=rnd_state\n",
    "    )\n",
    "    \n",
    "    # выполним масштабирование количественных признаков\n",
    "    scaler = StandardScaler()\n",
    "    numeric = ['CreditScore', 'Age', 'Tenure', 'Balance', 'NumOfProducts', 'EstimatedSalary']\n",
    "    scaler.fit(features_train[numeric])\n",
    "    \n",
    "    features_train[numeric] = scaler.transform(features_train[numeric])\n",
    "    features_valid[numeric] = scaler.transform(features_valid[numeric])\n",
    "    features_test[numeric] = scaler.transform(features_test[numeric])\n",
    "    \n",
    "    return features_train, features_valid, features_test, target_train, target_valid, target_test"
   ]
  },
  {
   "cell_type": "code",
   "execution_count": 17,
   "metadata": {},
   "outputs": [],
   "source": [
    "def train_and_predict(data, model, log_prefix='', samplefunc=None, test=False):\n",
    "    '''Функция возвращает обученную модель.'''\n",
    "    target, features = tf(data)\n",
    "    features_train, features_valid, features_test, target_train, target_valid, target_test = split_data(features, target)\n",
    "    \n",
    "    if samplefunc:\n",
    "        features_train, target_train = samplefunc(features_train, target_train)\n",
    "    \n",
    "    model.fit(features_train, target_train)\n",
    "    predicted_valid = model.predict(features_valid)\n",
    "    print(f'{log_prefix}F1-мера на валидационной выборке: {f1_score(target_valid, predicted_valid)}')\n",
    "    \n",
    "    if test:\n",
    "        predictions_test = model.predict(features_test)\n",
    "        print(f'{log_prefix}F1-мера на тестовой выборке: {f1_score(target_test, predicted_test)}')\n",
    "    \n",
    "    return model"
   ]
  },
  {
   "cell_type": "markdown",
   "metadata": {},
   "source": [
    "## 2. Исследование задачи"
   ]
  },
  {
   "cell_type": "markdown",
   "metadata": {},
   "source": [
    "Проверим, как часто в целевом признаке нашего исходного датасета встречается класс «1» или «0»:"
   ]
  },
  {
   "cell_type": "code",
   "execution_count": 18,
   "metadata": {},
   "outputs": [
    {
     "name": "stdout",
     "output_type": "stream",
     "text": [
      "0    0.796062\n",
      "1    0.203938\n",
      "Name: Exited, dtype: float64\n"
     ]
    },
    {
     "data": {
      "image/png": "[encoded data removed]",
      "text/plain": [
       "<Figure size 432x288 with 1 Axes>"
      ]
     },
     "metadata": {
      "needs_background": "light"
     },
     "output_type": "display_data"
    }
   ],
   "source": [
    "class_frequency = data['Exited'].value_counts(normalize=True)\n",
    "class_frequency.plot(kind='bar')\n",
    "print(class_frequency)\n",
    "plt.show()"
   ]
  },
  {
   "cell_type": "markdown",
   "metadata": {},
   "source": [
    "Соотношение классов далеко от 1:1, т.е. они **несбалансированы**: ~80% отрицательных и ~20% положительных."
   ]
  },
  {
   "cell_type": "markdown",
   "metadata": {},
   "source": [
    "⚠️ _На данном этапе мы будем исследовать модели без учета дисбаланса классов, заведомо ожидая плохие результаты._"
   ]
  },
  {
   "cell_type": "markdown",
   "metadata": {},
   "source": [
    "Также на этапе подготовки данных мы увидили, что часть признаков нашего датасета – категориальные. Для обучения модели логистической регрессии нам потребуется преобразовать категориальные признаки прямым кодированием, а для обучения модели решающего дерева или случайного леса выполнить порядковое кодирование."
   ]
  },
  {
   "cell_type": "markdown",
   "metadata": {},
   "source": [
    "### Логистическая регрессия"
   ]
  },
  {
   "cell_type": "code",
   "execution_count": 19,
   "metadata": {},
   "outputs": [],
   "source": [
    "data_ohe = pd.get_dummies(data, drop_first=True)"
   ]
  },
  {
   "cell_type": "code",
   "execution_count": 20,
   "metadata": {},
   "outputs": [
    {
     "name": "stdout",
     "output_type": "stream",
     "text": [
      "F1-мера на валидационной выборке: 0.2892057026476578\n"
     ]
    },
    {
     "data": {
      "text/plain": [
       "LogisticRegression(C=1.0, class_weight=None, dual=False, fit_intercept=True,\n",
       "                   intercept_scaling=1, l1_ratio=None, max_iter=100,\n",
       "                   multi_class='warn', n_jobs=None, penalty='l2',\n",
       "                   random_state=201911, solver='liblinear', tol=0.0001,\n",
       "                   verbose=0, warm_start=False)"
      ]
     },
     "execution_count": 20,
     "metadata": {},
     "output_type": "execute_result"
    }
   ],
   "source": [
    "model = LogisticRegression(solver='liblinear', random_state=rnd_state)\n",
    "train_and_predict(data_ohe, model)"
   ]
  },
  {
   "cell_type": "markdown",
   "metadata": {},
   "source": [
    "📝 При дисбалансе классов логистическая регрессия предсказывает крайне плохо."
   ]
  },
  {
   "cell_type": "markdown",
   "metadata": {},
   "source": [
    "---\n",
    "\n",
    "_Перед тем, как экспериментировать с моделями дерева решений и случайного леса, воспользуемся техникой порядкового кодирования для категориальных признаков._"
   ]
  },
  {
   "cell_type": "code",
   "execution_count": 21,
   "metadata": {},
   "outputs": [],
   "source": [
    "encoder = OrdinalEncoder()\n",
    "data_ordinal = pd.DataFrame(encoder.fit_transform(data), columns=data.columns)"
   ]
  },
  {
   "cell_type": "markdown",
   "metadata": {},
   "source": [
    "### Дерево решений"
   ]
  },
  {
   "cell_type": "code",
   "execution_count": 22,
   "metadata": {},
   "outputs": [
    {
     "name": "stdout",
     "output_type": "stream",
     "text": [
      "max_depth 2:\tF1-мера на валидационной выборке: 0.5075630252100841\n",
      "max_depth 4:\tF1-мера на валидационной выборке: 0.505338078291815\n",
      "max_depth 6:\tF1-мера на валидационной выборке: 0.528169014084507\n",
      "max_depth 8:\tF1-мера на валидационной выборке: 0.5344262295081967\n",
      "max_depth 10:\tF1-мера на валидационной выборке: 0.517684887459807\n",
      "max_depth 12:\tF1-мера на валидационной выборке: 0.5172413793103448\n",
      "max_depth 14:\tF1-мера на валидационной выборке: 0.5013623978201636\n",
      "max_depth 16:\tF1-мера на валидационной выборке: 0.47457627118644063\n",
      "max_depth 18:\tF1-мера на валидационной выборке: 0.4920212765957447\n",
      "max_depth 20:\tF1-мера на валидационной выборке: 0.47457627118644063\n"
     ]
    }
   ],
   "source": [
    "for max_depth in range(2, 22, 2):\n",
    "    model = DecisionTreeClassifier(max_depth=max_depth, random_state=rnd_state)\n",
    "    train_and_predict(data_ordinal, model, log_prefix=f'max_depth {max_depth}:\\t')"
   ]
  },
  {
   "cell_type": "markdown",
   "metadata": {},
   "source": [
    "📝 Пока лучшие результаты `0.5344262295081967` получили у модели с глубиной равной `8`."
   ]
  },
  {
   "cell_type": "markdown",
   "metadata": {},
   "source": [
    "### Случайный лес"
   ]
  },
  {
   "cell_type": "markdown",
   "metadata": {},
   "source": [
    "В качестве гиперпараметра глубины дерева возьмем значение, найденное для предыдущей модели. А количество деревьев для нашего случайного леса будет искать в диапазоне от 10 до 200 с шагом 10."
   ]
  },
  {
   "cell_type": "code",
   "execution_count": 23,
   "metadata": {},
   "outputs": [
    {
     "name": "stdout",
     "output_type": "stream",
     "text": [
      "n_estimators = 10:\tF1-мера на валидационной выборке: 0.5463917525773196\n",
      "n_estimators = 20:\tF1-мера на валидационной выборке: 0.5305410122164049\n",
      "n_estimators = 30:\tF1-мера на валидационной выборке: 0.5300353356890459\n",
      "n_estimators = 40:\tF1-мера на валидационной выборке: 0.5364120781527532\n",
      "n_estimators = 50:\tF1-мера на валидационной выборке: 0.5295169946332736\n",
      "n_estimators = 60:\tF1-мера на валидационной выборке: 0.5330948121645795\n",
      "n_estimators = 70:\tF1-мера на валидационной выборке: 0.5366726296958856\n",
      "n_estimators = 80:\tF1-мера на валидационной выборке: 0.5376344086021505\n",
      "n_estimators = 90:\tF1-мера на валидационной выборке: 0.5321428571428571\n",
      "n_estimators = 100:\tF1-мера на валидационной выборке: 0.5338078291814946\n",
      "n_estimators = 110:\tF1-мера на валидационной выборке: 0.53475935828877\n",
      "n_estimators = 120:\tF1-мера на валидационной выборке: 0.5373665480427047\n",
      "n_estimators = 130:\tF1-мера на валидационной выборке: 0.5399644760213144\n",
      "n_estimators = 140:\tF1-мера на валидационной выборке: 0.5399644760213144\n",
      "n_estimators = 150:\tF1-мера на валидационной выборке: 0.5409252669039146\n",
      "n_estimators = 160:\tF1-мера на валидационной выборке: 0.5435168738898757\n",
      "n_estimators = 170:\tF1-мера на валидационной выборке: 0.5425531914893617\n",
      "n_estimators = 180:\tF1-мера на валидационной выборке: 0.5425531914893617\n",
      "n_estimators = 190:\tF1-мера на валидационной выборке: 0.5425531914893617\n",
      "n_estimators = 200:\tF1-мера на валидационной выборке: 0.5406360424028269\n"
     ]
    }
   ],
   "source": [
    "for estim in range(10, 201, 10):\n",
    "    model = RandomForestClassifier(n_estimators=estim, max_depth=8, random_state=rnd_state)\n",
    "    train_and_predict(data_ordinal, model, log_prefix=f'n_estimators = {estim}:\\t')"
   ]
  },
  {
   "cell_type": "markdown",
   "metadata": {},
   "source": [
    "📝 Как видим, модель случайного леса предсказывает чуть лучше, чем дерево решений. Лучший результат `0.5463917525773196` достигается при количестве деревьев равном `10`."
   ]
  },
  {
   "cell_type": "markdown",
   "metadata": {},
   "source": [
    "## 3. Борьба с дисбалансом\n",
    "\n",
    "👨🏼‍🔬 _Учтем дисбаланс классов и посмотрим как борьба с ним повлияет на исследуемые модели._"
   ]
  },
  {
   "cell_type": "markdown",
   "metadata": {},
   "source": [
    "### Взвешивание классов\n",
    "\n",
    "Придадим объектам редкого класса `1` больший вес используя гиперпараметр `class_weight='balanced'`."
   ]
  },
  {
   "cell_type": "markdown",
   "metadata": {},
   "source": [
    "#### Логистическая регрессия"
   ]
  },
  {
   "cell_type": "code",
   "execution_count": 24,
   "metadata": {},
   "outputs": [
    {
     "name": "stdout",
     "output_type": "stream",
     "text": [
      "F1-мера на валидационной выборке: 0.4985563041385948\n"
     ]
    },
    {
     "data": {
      "text/plain": [
       "LogisticRegression(C=1.0, class_weight='balanced', dual=False,\n",
       "                   fit_intercept=True, intercept_scaling=1, l1_ratio=None,\n",
       "                   max_iter=100, multi_class='warn', n_jobs=None, penalty='l2',\n",
       "                   random_state=201911, solver='liblinear', tol=0.0001,\n",
       "                   verbose=0, warm_start=False)"
      ]
     },
     "execution_count": 24,
     "metadata": {},
     "output_type": "execute_result"
    }
   ],
   "source": [
    "model = LogisticRegression(class_weight='balanced', solver='liblinear', random_state=rnd_state)\n",
    "train_and_predict(data_ohe, model)"
   ]
  },
  {
   "cell_type": "markdown",
   "metadata": {},
   "source": [
    "Значение F1-меры увеличилось ⬆️"
   ]
  },
  {
   "cell_type": "markdown",
   "metadata": {},
   "source": [
    "#### Дерево решений"
   ]
  },
  {
   "cell_type": "code",
   "execution_count": 25,
   "metadata": {},
   "outputs": [
    {
     "name": "stdout",
     "output_type": "stream",
     "text": [
      "max_depth 2:\tF1-мера на валидационной выборке: 0.49851042701092346\n",
      "max_depth 4:\tF1-мера на валидационной выборке: 0.5004582951420715\n",
      "max_depth 6:\tF1-мера на валидационной выборке: 0.5258386219401632\n",
      "max_depth 8:\tF1-мера на валидационной выборке: 0.5284210526315789\n",
      "max_depth 10:\tF1-мера на валидационной выборке: 0.5098039215686274\n",
      "max_depth 12:\tF1-мера на валидационной выборке: 0.5005662514156285\n",
      "max_depth 14:\tF1-мера на валидационной выборке: 0.4993880048959609\n",
      "max_depth 16:\tF1-мера на валидационной выборке: 0.49222797927461137\n",
      "max_depth 18:\tF1-мера на валидационной выборке: 0.4827586206896552\n",
      "max_depth 20:\tF1-мера на валидационной выборке: 0.4960212201591512\n"
     ]
    }
   ],
   "source": [
    "for max_depth in range(2, 22, 2):\n",
    "    model = DecisionTreeClassifier(class_weight='balanced', max_depth=max_depth, random_state=rnd_state)\n",
    "    train_and_predict(data_ordinal, model, log_prefix=f'max_depth {max_depth}:\\t')"
   ]
  },
  {
   "cell_type": "markdown",
   "metadata": {},
   "source": [
    "📝 Заметных улучшений нет: `0.5284210526315789` у решающего дерева с глубиной `8`."
   ]
  },
  {
   "cell_type": "markdown",
   "metadata": {},
   "source": [
    "#### Случайный лес"
   ]
  },
  {
   "cell_type": "code",
   "execution_count": 26,
   "metadata": {},
   "outputs": [
    {
     "name": "stdout",
     "output_type": "stream",
     "text": [
      "n_estimators = 10:\tF1-мера на валидационной выборке: 0.5759803921568628\n",
      "n_estimators = 20:\tF1-мера на валидационной выборке: 0.5892634207240948\n",
      "n_estimators = 30:\tF1-мера на валидационной выборке: 0.5903614457831325\n",
      "n_estimators = 40:\tF1-мера на валидационной выборке: 0.5906362545018007\n",
      "n_estimators = 50:\tF1-мера на валидационной выборке: 0.5983112183353437\n",
      "n_estimators = 60:\tF1-мера на валидационной выборке: 0.5935637663885577\n",
      "n_estimators = 70:\tF1-мера на валидационной выборке: 0.5988023952095808\n",
      "n_estimators = 80:\tF1-мера на валидационной выборке: 0.6030989272943982\n",
      "n_estimators = 90:\tF1-мера на валидационной выборке: 0.6026410564225689\n",
      "n_estimators = 100:\tF1-мера на валидационной выборке: 0.6050420168067226\n",
      "n_estimators = 110:\tF1-мера на валидационной выборке: 0.6011976047904192\n",
      "n_estimators = 120:\tF1-мера на валидационной выборке: 0.5956937799043062\n",
      "n_estimators = 130:\tF1-мера на валидационной выборке: 0.6002400960384153\n",
      "n_estimators = 140:\tF1-мера на валидационной выборке: 0.5995203836930456\n",
      "n_estimators = 150:\tF1-мера на валидационной выборке: 0.5973715651135006\n",
      "n_estimators = 160:\tF1-мера на валидационной выборке: 0.6014319809069213\n",
      "n_estimators = 170:\tF1-мера на валидационной выборке: 0.6009501187648455\n",
      "n_estimators = 180:\tF1-мера на валидационной выборке: 0.6014319809069213\n",
      "n_estimators = 190:\tF1-мера на валидационной выборке: 0.6004784688995216\n",
      "n_estimators = 200:\tF1-мера на валидационной выборке: 0.5976190476190475\n"
     ]
    }
   ],
   "source": [
    "for estim in range(10, 201, 10):\n",
    "    model = RandomForestClassifier(class_weight='balanced', n_estimators=estim, max_depth=8, random_state=rnd_state)\n",
    "    train_and_predict(data_ordinal, model, log_prefix=f'n_estimators = {estim}:\\t')"
   ]
  },
  {
   "cell_type": "markdown",
   "metadata": {},
   "source": [
    "📝 А вот модель случайного леса показывает самое высокое значение F1-меры: `0.6050420168067226` при количестве деревьев равном `100`."
   ]
  },
  {
   "cell_type": "markdown",
   "metadata": {},
   "source": [
    "### Увеличение выборки\n",
    "\n",
    "Cделаем объекты редкого класса не такими редкими и переобучим модели."
   ]
  },
  {
   "cell_type": "code",
   "execution_count": 27,
   "metadata": {},
   "outputs": [],
   "source": [
    "def upsample(features, target, repeat=10):\n",
    "    features_zeros = features[target == 0]\n",
    "    features_ones = features[target == 1]\n",
    "    target_zeros = target[target == 0]\n",
    "    target_ones = target[target == 1]\n",
    "\n",
    "    features_upsampled = pd.concat([features_zeros] + [features_ones] * repeat)\n",
    "    target_upsampled = pd.concat([target_zeros] + [target_ones] * repeat)\n",
    "    \n",
    "    features_upsampled, target_upsampled = shuffle(\n",
    "        features_upsampled, target_upsampled, random_state=rnd_state)\n",
    "    \n",
    "    return features_upsampled, target_upsampled"
   ]
  },
  {
   "cell_type": "markdown",
   "metadata": {},
   "source": [
    "#### Логистическая регрессия"
   ]
  },
  {
   "cell_type": "code",
   "execution_count": 28,
   "metadata": {},
   "outputs": [
    {
     "name": "stdout",
     "output_type": "stream",
     "text": [
      "F1-мера на валидационной выборке: 0.4145896656534955\n"
     ]
    },
    {
     "data": {
      "text/plain": [
       "LogisticRegression(C=1.0, class_weight=None, dual=False, fit_intercept=True,\n",
       "                   intercept_scaling=1, l1_ratio=None, max_iter=100,\n",
       "                   multi_class='warn', n_jobs=None, penalty='l2',\n",
       "                   random_state=201911, solver='liblinear', tol=0.0001,\n",
       "                   verbose=0, warm_start=False)"
      ]
     },
     "execution_count": 28,
     "metadata": {},
     "output_type": "execute_result"
    }
   ],
   "source": [
    "model = LogisticRegression(solver='liblinear', random_state=rnd_state)\n",
    "train_and_predict(data_ohe, model, samplefunc=upsample)"
   ]
  },
  {
   "cell_type": "markdown",
   "metadata": {},
   "source": [
    "#### Дерево решений"
   ]
  },
  {
   "cell_type": "code",
   "execution_count": 29,
   "metadata": {},
   "outputs": [
    {
     "name": "stdout",
     "output_type": "stream",
     "text": [
      "max_depth 2:\tF1-мера на валидационной выборке: 0.46254071661237783\n",
      "max_depth 4:\tF1-мера на валидационной выборке: 0.4295212765957447\n",
      "max_depth 6:\tF1-мера на валидационной выборке: 0.4683908045977011\n",
      "max_depth 8:\tF1-мера на валидационной выборке: 0.45248868778280543\n",
      "max_depth 10:\tF1-мера на валидационной выборке: 0.4737295434969854\n",
      "max_depth 12:\tF1-мера на валидационной выборке: 0.4851586489252815\n",
      "max_depth 14:\tF1-мера на валидационной выборке: 0.4780023781212842\n",
      "max_depth 16:\tF1-мера на валидационной выборке: 0.45614035087719296\n",
      "max_depth 18:\tF1-мера на валидационной выборке: 0.4636871508379888\n",
      "max_depth 20:\tF1-мера на валидационной выборке: 0.46020260492040527\n"
     ]
    }
   ],
   "source": [
    "for max_depth in range(2, 22, 2):\n",
    "    model = DecisionTreeClassifier(max_depth=max_depth, random_state=rnd_state)\n",
    "    train_and_predict(data_ordinal, model, samplefunc=upsample, log_prefix=f'max_depth {max_depth}:\\t')"
   ]
  },
  {
   "cell_type": "markdown",
   "metadata": {},
   "source": [
    "#### Случайный лес"
   ]
  },
  {
   "cell_type": "code",
   "execution_count": 30,
   "metadata": {},
   "outputs": [
    {
     "name": "stdout",
     "output_type": "stream",
     "text": [
      "n_estimators = 10:\tF1-мера на валидационной выборке: 0.5437100213219616\n",
      "n_estimators = 20:\tF1-мера на валидационной выборке: 0.5450597176981542\n",
      "n_estimators = 30:\tF1-мера на валидационной выборке: 0.5511982570806101\n",
      "n_estimators = 40:\tF1-мера на валидационной выборке: 0.5557986870897156\n",
      "n_estimators = 50:\tF1-мера на валидационной выборке: 0.5619469026548674\n",
      "n_estimators = 60:\tF1-мера на валидационной выборке: 0.5560439560439561\n",
      "n_estimators = 70:\tF1-мера на валидационной выборке: 0.5673603504928806\n",
      "n_estimators = 80:\tF1-мера на валидационной выборке: 0.5698689956331877\n",
      "n_estimators = 90:\tF1-мера на валидационной выборке: 0.5732758620689655\n",
      "n_estimators = 100:\tF1-мера на валидационной выборке: 0.5766738660907127\n",
      "n_estimators = 110:\tF1-мера на валидационной выборке: 0.5748633879781421\n",
      "n_estimators = 120:\tF1-мера на валидационной выборке: 0.5739320920043812\n",
      "n_estimators = 130:\tF1-мера на валидационной выборке: 0.579520697167756\n",
      "n_estimators = 140:\tF1-мера на валидационной выборке: 0.5786026200873363\n",
      "n_estimators = 150:\tF1-мера на валидационной выборке: 0.5757906215921483\n",
      "n_estimators = 160:\tF1-мера на валидационной выборке: 0.5782608695652175\n",
      "n_estimators = 170:\tF1-мера на валидационной выборке: 0.5757906215921483\n",
      "n_estimators = 180:\tF1-мера на валидационной выборке: 0.5745375408052231\n",
      "n_estimators = 190:\tF1-мера на валидационной выборке: 0.5751633986928105\n",
      "n_estimators = 200:\tF1-мера на валидационной выборке: 0.5745375408052231\n"
     ]
    }
   ],
   "source": [
    "for estim in range(10, 201, 10):\n",
    "    model = RandomForestClassifier(n_estimators=estim, max_depth=12, random_state=rnd_state)\n",
    "    train_and_predict(data_ordinal, model, samplefunc=upsample, log_prefix=f'n_estimators = {estim}:\\t')"
   ]
  },
  {
   "cell_type": "markdown",
   "metadata": {},
   "source": [
    "---\n",
    "\n",
    "📝 Значение F1-меры у каждой из рассмотренных моделей меньше, чем в случае балансировки классов."
   ]
  },
  {
   "cell_type": "markdown",
   "metadata": {},
   "source": [
    "### Уменьшение выборки"
   ]
  },
  {
   "cell_type": "code",
   "execution_count": 31,
   "metadata": {},
   "outputs": [],
   "source": [
    "def downsample(features, target, fraction = 0.2):\n",
    "    features_zeros = features[target == 0]\n",
    "    features_ones = features[target == 1]\n",
    "    target_zeros = target[target == 0]\n",
    "    target_ones = target[target == 1]\n",
    "\n",
    "    features_downsampled = pd.concat(\n",
    "        [features_zeros.sample(frac=fraction, random_state=rnd_state)] + [features_ones]\n",
    "    )\n",
    "    target_downsampled = pd.concat(\n",
    "        [target_zeros.sample(frac=fraction, random_state=rnd_state)] + [target_ones]\n",
    "    )\n",
    "    \n",
    "    return features_downsampled, target_downsampled"
   ]
  },
  {
   "cell_type": "markdown",
   "metadata": {},
   "source": [
    "#### Логистическая регрессия"
   ]
  },
  {
   "cell_type": "code",
   "execution_count": 32,
   "metadata": {},
   "outputs": [
    {
     "name": "stdout",
     "output_type": "stream",
     "text": [
      "F1-мера на валидационной выборке: 0.48349834983498347\n"
     ]
    },
    {
     "data": {
      "text/plain": [
       "LogisticRegression(C=1.0, class_weight=None, dual=False, fit_intercept=True,\n",
       "                   intercept_scaling=1, l1_ratio=None, max_iter=100,\n",
       "                   multi_class='warn', n_jobs=None, penalty='l2',\n",
       "                   random_state=201911, solver='liblinear', tol=0.0001,\n",
       "                   verbose=0, warm_start=False)"
      ]
     },
     "execution_count": 32,
     "metadata": {},
     "output_type": "execute_result"
    }
   ],
   "source": [
    "model = LogisticRegression(solver='liblinear', random_state=rnd_state)\n",
    "train_and_predict(data_ohe, model, samplefunc=downsample)"
   ]
  },
  {
   "cell_type": "markdown",
   "metadata": {},
   "source": [
    "#### Дерево решений"
   ]
  },
  {
   "cell_type": "code",
   "execution_count": 33,
   "metadata": {},
   "outputs": [
    {
     "name": "stdout",
     "output_type": "stream",
     "text": [
      "max_depth 2:\tF1-мера на валидационной выборке: 0.49851042701092346\n",
      "max_depth 4:\tF1-мера на валидационной выборке: 0.4913151364764268\n",
      "max_depth 6:\tF1-мера на валидационной выборке: 0.49520488230165655\n",
      "max_depth 8:\tF1-мера на валидационной выборке: 0.47826086956521746\n",
      "max_depth 10:\tF1-мера на валидационной выборке: 0.4797936371453138\n",
      "max_depth 12:\tF1-мера на валидационной выборке: 0.4855390008764242\n",
      "max_depth 14:\tF1-мера на валидационной выборке: 0.48490230905861453\n",
      "max_depth 16:\tF1-мера на валидационной выборке: 0.4874551971326165\n",
      "max_depth 18:\tF1-мера на валидационной выборке: 0.48378615249780893\n",
      "max_depth 20:\tF1-мера на валидационной выборке: 0.48378615249780893\n"
     ]
    }
   ],
   "source": [
    "for max_depth in range(2, 22, 2):\n",
    "    model = DecisionTreeClassifier(max_depth=max_depth, random_state=rnd_state)\n",
    "    train_and_predict(data_ordinal, model, samplefunc=downsample, log_prefix=f'max_depth {max_depth}:\\t')"
   ]
  },
  {
   "cell_type": "markdown",
   "metadata": {},
   "source": [
    "#### Случайный лес"
   ]
  },
  {
   "cell_type": "code",
   "execution_count": 34,
   "metadata": {},
   "outputs": [
    {
     "name": "stdout",
     "output_type": "stream",
     "text": [
      "n_estimators = 10:\tF1-мера на валидационной выборке: 0.4771341463414634\n",
      "n_estimators = 20:\tF1-мера на валидационной выборке: 0.4962655601659752\n",
      "n_estimators = 30:\tF1-мера на валидационной выборке: 0.48551292090837905\n",
      "n_estimators = 40:\tF1-мера на валидационной выборке: 0.4901806755695208\n",
      "n_estimators = 50:\tF1-мера на валидационной выборке: 0.4920382165605095\n",
      "n_estimators = 60:\tF1-мера на валидационной выборке: 0.47975553857906805\n",
      "n_estimators = 70:\tF1-мера на валидационной выборке: 0.47226386806596693\n",
      "n_estimators = 80:\tF1-мера на валидационной выборке: 0.47619047619047616\n",
      "n_estimators = 90:\tF1-мера на валидационной выборке: 0.4841942945258288\n",
      "n_estimators = 100:\tF1-мера на валидационной выборке: 0.48142414860681104\n",
      "n_estimators = 110:\tF1-мера на валидационной выборке: 0.488\n",
      "n_estimators = 120:\tF1-мера на валидационной выборке: 0.4912\n",
      "n_estimators = 130:\tF1-мера на валидационной выборке: 0.48768864177918986\n",
      "n_estimators = 140:\tF1-мера на валидационной выборке: 0.4858044164037854\n",
      "n_estimators = 150:\tF1-мера на валидационной выборке: 0.48717948717948717\n",
      "n_estimators = 160:\tF1-мера на валидационной выборке: 0.4934640522875817\n",
      "n_estimators = 170:\tF1-мера на валидационной выборке: 0.49183006535947715\n",
      "n_estimators = 180:\tF1-мера на валидационной выборке: 0.4906580016246954\n",
      "n_estimators = 190:\tF1-мера на валидационной выборке: 0.49268292682926834\n",
      "n_estimators = 200:\tF1-мера на валидационной выборке: 0.4892086330935252\n"
     ]
    }
   ],
   "source": [
    "for estim in range(10, 201, 10):\n",
    "    model = RandomForestClassifier(n_estimators=estim, max_depth=2, random_state=rnd_state)\n",
    "    train_and_predict(data_ordinal, model, samplefunc=downsample, log_prefix=f'n_estimators = {estim}:\\t')"
   ]
  },
  {
   "cell_type": "markdown",
   "metadata": {},
   "source": [
    "---\n",
    "\n",
    "📝 Значение F1-меры у каждой из рассмотренных моделей меньше, чем в случае балансировки классов."
   ]
  },
  {
   "cell_type": "markdown",
   "metadata": {},
   "source": [
    "## 4. Тестирование модели"
   ]
  },
  {
   "cell_type": "markdown",
   "metadata": {},
   "source": [
    "На основе наших экспериментов с моделями можем сделать вывод, что лучшей моделью является случайный лес с количеством деревьев равным `100` и глубиной равной `8` с учетом балансировки классов.\n",
    "\n",
    "Протестируем модель на тестовой выборке:"
   ]
  },
  {
   "cell_type": "code",
   "execution_count": 35,
   "metadata": {},
   "outputs": [
    {
     "name": "stdout",
     "output_type": "stream",
     "text": [
      "valid: 0.6050420168067226\n",
      "test: 0.6050632911392405\n"
     ]
    }
   ],
   "source": [
    "target, features = tf(data_ordinal)\n",
    "features_train, features_valid, features_test, target_train, target_valid, target_test = split_data(features, target)\n",
    "\n",
    "model = RandomForestClassifier(class_weight='balanced', n_estimators=100, max_depth=8, random_state=rnd_state)\n",
    "model.fit(features_train, target_train)\n",
    "\n",
    "predicted_valid = model.predict(features_valid)\n",
    "print('valid:', f1_score(target_valid, predicted_valid))\n",
    "\n",
    "predicted_test = model.predict(features_test)\n",
    "print('test:', f1_score(target_test, predicted_test))"
   ]
  },
  {
   "cell_type": "markdown",
   "metadata": {},
   "source": [
    "Посчитаем AUC-ROC для нашей модели и посмотрим насколько она лучше случайной модели:"
   ]
  },
  {
   "cell_type": "code",
   "execution_count": 36,
   "metadata": {},
   "outputs": [
    {
     "data": {
      "text/plain": [
       "0.8475596074253552"
      ]
     },
     "execution_count": 36,
     "metadata": {},
     "output_type": "execute_result"
    }
   ],
   "source": [
    "probabilities_valid = model.predict_proba(features_valid)\n",
    "probabilities_one_valid = probabilities_valid[:, 1]\n",
    "\n",
    "roc_auc_score(target_valid, probabilities_one_valid)"
   ]
  },
  {
   "cell_type": "markdown",
   "metadata": {},
   "source": [
    "AUC-ROC случайной модели равна `0.5` – наша метрика выше и понемногу стремиться к недостижимой едицине."
   ]
  },
  {
   "cell_type": "markdown",
   "metadata": {},
   "source": [
    "## Чек-лист готовности проекта"
   ]
  },
  {
   "cell_type": "markdown",
   "metadata": {},
   "source": [
    "Поставьте 'x' в выполненных пунктах. Далее нажмите Shift+Enter."
   ]
  },
  {
   "cell_type": "markdown",
   "metadata": {},
   "source": [
    "- [x]  Jupyter Notebook открыт\n",
    "- [x]  Весь код выполняется без ошибок\n",
    "- [x]  Ячейки с кодом расположены в порядке исполнения\n",
    "- [x]  Выполнен шаг 1: данные подготовлены\n",
    "- [x]  Выполнен шаг 2: задача исследована\n",
    "    - [x]  Исследован баланс классов\n",
    "    - [x]  Изучены модели без учёта дисбаланса\n",
    "    - [x]  Написаны выводы по результатам исследования\n",
    "- [x]  Выполнен шаг 3: учтён дисбаланс\n",
    "    - [x]  Применено несколько способов борьбы с дисбалансом\n",
    "    - [x]  Написаны выводы по результатам исследования\n",
    "- [x]  Выполнен шаг 4: проведено тестирование\n",
    "- [x]  Удалось достичь *F1*-меры не менее 0.59\n",
    "- [x]  Исследована метрика *AUC-ROC*"
   ]
  }
 ],
 "metadata": {
  "kernelspec": {
   "display_name": "Python 3",
   "language": "python",
   "name": "python3"
  },
  "language_info": {
   "codemirror_mode": {
    "name": "ipython",
    "version": 3
   },
   "file_extension": ".py",
   "mimetype": "text/x-python",
   "name": "python",
   "nbconvert_exporter": "python",
   "pygments_lexer": "ipython3",
   "version": "3.7.5"
  }
 },
 "nbformat": 4,
 "nbformat_minor": 2
}
